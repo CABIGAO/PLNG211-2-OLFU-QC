{
  "nbformat": 4,
  "nbformat_minor": 0,
  "metadata": {
    "colab": {
      "provenance": [],
      "authorship_tag": "ABX9TyMhdHiQ32F2d+R8E2/6MKSU",
      "include_colab_link": true
    },
    "kernelspec": {
      "name": "python3",
      "display_name": "Python 3"
    },
    "language_info": {
      "name": "python"
    }
  },
  "cells": [
    {
      "cell_type": "markdown",
      "metadata": {
        "id": "view-in-github",
        "colab_type": "text"
      },
      "source": [
        "<a href=\"https://colab.research.google.com/github/CABIGAO/PLNG211-2-OLFU-QC/blob/main/Into_to_Python.ipynb\" target=\"_parent\"><img src=\"https://colab.research.google.com/assets/colab-badge.svg\" alt=\"Open In Colab\"/></a>"
      ]
    },
    {
      "cell_type": "markdown",
      "source": [
        "Comment"
      ],
      "metadata": {
        "id": "B6kqSKV8MXGp"
      }
    },
    {
      "cell_type": "code",
      "source": [
        "#This is a comment\n",
        "print(\"Hello, world\")"
      ],
      "metadata": {
        "colab": {
          "base_uri": "https://localhost:8080/"
        },
        "id": "wsp0uC6sMvZY",
        "outputId": "d29d0e1e-ad5c-4240-9dfa-ba6127f3df69"
      },
      "execution_count": 1,
      "outputs": [
        {
          "output_type": "stream",
          "name": "stdout",
          "text": [
            "Hello, world\n"
          ]
        }
      ]
    },
    {
      "cell_type": "markdown",
      "source": [
        "Python Variable"
      ],
      "metadata": {
        "id": "aCqxkI4PM66o"
      }
    },
    {
      "cell_type": "code",
      "source": [
        "#multiple variable\n",
        "e,f,g= -9, 2,4\n",
        "print(e)\n",
        "\n",
        "#single variable\n",
        "c = 12\n",
        "a = 15\n",
        "t = 1\n",
        "print(c,a,t)\n",
        "\n",
        "#string variable\n",
        "n = \"nimfs\"\n",
        "print(n)"
      ],
      "metadata": {
        "colab": {
          "base_uri": "https://localhost:8080/"
        },
        "id": "QpSlPLkmNCkQ",
        "outputId": "e5095aca-979f-4a7f-dfc7-3933c15c1120"
      },
      "execution_count": 5,
      "outputs": [
        {
          "output_type": "stream",
          "name": "stdout",
          "text": [
            "-9\n",
            "12 15 1\n",
            "nimfs\n"
          ]
        }
      ]
    },
    {
      "cell_type": "markdown",
      "source": [
        "Casting"
      ],
      "metadata": {
        "id": "T3VUfXo4Px5w"
      }
    },
    {
      "cell_type": "code",
      "source": [
        "p = float(18)\n",
        "print(p)"
      ],
      "metadata": {
        "colab": {
          "base_uri": "https://localhost:8080/"
        },
        "id": "N_WJeMTgQDBw",
        "outputId": "4c9292d2-2ae8-4108-9b5e-b172789673dd"
      },
      "execution_count": 6,
      "outputs": [
        {
          "output_type": "stream",
          "name": "stdout",
          "text": [
            "18.0\n"
          ]
        }
      ]
    },
    {
      "cell_type": "markdown",
      "source": [
        "Type () function"
      ],
      "metadata": {
        "id": "OAMbDtooQU9p"
      }
    },
    {
      "cell_type": "code",
      "source": [
        "print(type(28))"
      ],
      "metadata": {
        "colab": {
          "base_uri": "https://localhost:8080/"
        },
        "id": "xYTxOoiZQV9Q",
        "outputId": "6d30577f-dfe9-47fd-d1fe-18c8ab7becfe"
      },
      "execution_count": 7,
      "outputs": [
        {
          "output_type": "stream",
          "name": "stdout",
          "text": [
            "<class 'int'>\n"
          ]
        }
      ]
    },
    {
      "cell_type": "code",
      "source": [
        "#Proper Identation\n",
        "if 6>3:\n",
        "  print(\"6 is Greater than 3\")"
      ],
      "metadata": {
        "colab": {
          "base_uri": "https://localhost:8080/"
        },
        "id": "YPm9EDUFRqwJ",
        "outputId": "599c6a8c-026b-4926-984a-440a28a94421"
      },
      "execution_count": 8,
      "outputs": [
        {
          "output_type": "stream",
          "name": "stdout",
          "text": [
            "6 is Greater than 3\n"
          ]
        }
      ]
    },
    {
      "cell_type": "markdown",
      "source": [
        "Single Values to multiple Variables"
      ],
      "metadata": {
        "id": "bjautd8gSE_x"
      }
    },
    {
      "cell_type": "code",
      "source": [
        "c=a=t= \"peachy\"\n",
        "print(c)\n",
        "print(a)\n",
        "print(t)"
      ],
      "metadata": {
        "colab": {
          "base_uri": "https://localhost:8080/"
        },
        "id": "lPI69XvMSJbh",
        "outputId": "dc83f841-5916-44a4-e88f-62ddefde6694"
      },
      "execution_count": 10,
      "outputs": [
        {
          "output_type": "stream",
          "name": "stdout",
          "text": [
            "peachy\n",
            "peachy\n",
            "peachy\n"
          ]
        }
      ]
    },
    {
      "cell_type": "markdown",
      "source": [
        "Output Variables"
      ],
      "metadata": {
        "id": "b675lERNTYQT"
      }
    },
    {
      "cell_type": "code",
      "source": [
        "cat = \"Cats\"\n",
        "print(\"I like\"+\" \"+ cat)\n",
        "\n",
        "h = \"I like\"\n",
        "i = \" to code\"\n",
        "print(h + i)"
      ],
      "metadata": {
        "colab": {
          "base_uri": "https://localhost:8080/"
        },
        "id": "W2AB0TMaTbTR",
        "outputId": "8cac059f-5f2a-4421-df8a-571f8aa04379"
      },
      "execution_count": 14,
      "outputs": [
        {
          "output_type": "stream",
          "name": "stdout",
          "text": [
            "I like Cats\n",
            "I like to code\n"
          ]
        }
      ]
    },
    {
      "cell_type": "markdown",
      "source": [
        "Arithmetic Operations"
      ],
      "metadata": {
        "id": "JRw4yUQPUZzq"
      }
    },
    {
      "cell_type": "code",
      "source": [
        "c = 10/5\n",
        "a = 10+10\n",
        "t = 20-10\n",
        "e = 9\n",
        "print(c)\n",
        "print(a)\n",
        "print(t)\n",
        "print(e**2)"
      ],
      "metadata": {
        "colab": {
          "base_uri": "https://localhost:8080/"
        },
        "id": "-ZnBboAsUizy",
        "outputId": "d5a1a7b9-6781-4f6f-9480-2fcc84403c1d"
      },
      "execution_count": 17,
      "outputs": [
        {
          "output_type": "stream",
          "name": "stdout",
          "text": [
            "2.0\n",
            "20\n",
            "10\n",
            "81\n"
          ]
        }
      ]
    },
    {
      "cell_type": "markdown",
      "source": [
        "Assignment operators"
      ],
      "metadata": {
        "id": "7JoeNWy1VoFz"
      }
    },
    {
      "cell_type": "code",
      "source": [
        "c = 11\n",
        "c+=4\n",
        "print(c)"
      ],
      "metadata": {
        "colab": {
          "base_uri": "https://localhost:8080/"
        },
        "id": "J8eGIeaAVrND",
        "outputId": "b31b24cd-0a73-4be9-ca63-972f696348d8"
      },
      "execution_count": 18,
      "outputs": [
        {
          "output_type": "stream",
          "name": "stdout",
          "text": [
            "15\n"
          ]
        }
      ]
    },
    {
      "cell_type": "markdown",
      "source": [
        "Comparison Operators"
      ],
      "metadata": {
        "id": "NcebY-s8XTy7"
      }
    },
    {
      "cell_type": "code",
      "source": [
        "A = 18>9\n",
        "B = 81==9\n",
        "print(A)\n",
        "print(B)\n",
        "A and B"
      ],
      "metadata": {
        "colab": {
          "base_uri": "https://localhost:8080/"
        },
        "id": "2DupvgKwXXlb",
        "outputId": "7a2399a2-f47b-48e2-ef12-116f209cd5c9"
      },
      "execution_count": 22,
      "outputs": [
        {
          "output_type": "stream",
          "name": "stdout",
          "text": [
            "True\n",
            "False\n"
          ]
        },
        {
          "output_type": "execute_result",
          "data": {
            "text/plain": [
              "False"
            ]
          },
          "metadata": {},
          "execution_count": 22
        }
      ]
    },
    {
      "cell_type": "markdown",
      "source": [
        "Identify Operators"
      ],
      "metadata": {
        "id": "8yzUuopqYLYD"
      }
    },
    {
      "cell_type": "code",
      "source": [
        "e is not i\n",
        "e is i"
      ],
      "metadata": {
        "colab": {
          "base_uri": "https://localhost:8080/"
        },
        "id": "GxlKis2DYO2D",
        "outputId": "8de3933f-a1f8-46f5-d605-30eba139e7ef"
      },
      "execution_count": 24,
      "outputs": [
        {
          "output_type": "execute_result",
          "data": {
            "text/plain": [
              "False"
            ]
          },
          "metadata": {},
          "execution_count": 24
        }
      ]
    },
    {
      "cell_type": "markdown",
      "source": [
        "Bitwise Operators"
      ],
      "metadata": {
        "id": "v2QMbSTAYnjB"
      }
    },
    {
      "cell_type": "code",
      "source": [
        "x = 100\n",
        "x<<10\n",
        "x>>5\n"
      ],
      "metadata": {
        "colab": {
          "base_uri": "https://localhost:8080/"
        },
        "id": "1pREjGuWYwEz",
        "outputId": "22560fe6-227b-4994-d196-67117482692d"
      },
      "execution_count": 32,
      "outputs": [
        {
          "output_type": "execute_result",
          "data": {
            "text/plain": [
              "3"
            ]
          },
          "metadata": {},
          "execution_count": 32
        }
      ]
    }
  ]
}
