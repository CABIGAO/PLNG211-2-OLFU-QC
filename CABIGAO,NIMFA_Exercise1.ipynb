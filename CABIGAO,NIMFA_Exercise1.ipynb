{
  "nbformat": 4,
  "nbformat_minor": 0,
  "metadata": {
    "colab": {
      "provenance": [],
      "authorship_tag": "ABX9TyMKwEpLZqfMmUqOMLM77li0",
      "include_colab_link": true
    },
    "kernelspec": {
      "name": "python3",
      "display_name": "Python 3"
    },
    "language_info": {
      "name": "python"
    }
  },
  "cells": [
    {
      "cell_type": "markdown",
      "metadata": {
        "id": "view-in-github",
        "colab_type": "text"
      },
      "source": [
        "<a href=\"https://colab.research.google.com/github/CABIGAO/PLNG211-2-OLFU-QC/blob/main/CABIGAO%2CNIMFA_Exercise1.ipynb\" target=\"_parent\"><img src=\"https://colab.research.google.com/assets/colab-badge.svg\" alt=\"Open In Colab\"/></a>"
      ]
    },
    {
      "cell_type": "code",
      "execution_count": 5,
      "metadata": {
        "colab": {
          "base_uri": "https://localhost:8080/"
        },
        "id": "2a3BiNbi6UUG",
        "outputId": "0561f27f-cc0b-4f92-8b29-2d5a8f1a70fe"
      },
      "outputs": [
        {
          "output_type": "stream",
          "name": "stdout",
          "text": [
            " 1st score: 26\n",
            " 2nd score: 49\n",
            " 3rd score: 98\n",
            " 4th score: 87\n",
            " 5th score: 62\n",
            " 6th score: 75\n",
            "The sum is: 397\n"
          ]
        }
      ],
      "source": [
        "sum = 0\n",
        "print(\" 1st score: 26\")\n",
        "first = 26\n",
        "print(\" 2nd score: 49\")\n",
        "sec = 49\n",
        "print(\" 3rd score: 98\")\n",
        "third = 98\n",
        "print(\" 4th score: 87\")\n",
        "forth = 87\n",
        "print(\" 5th score: 62\")\n",
        "fifth = 62\n",
        "print(\" 6th score: 75\")\n",
        "sixth = 75\n",
        "sum = first + sec + third + forth + fifth + sixth\n",
        "print(\"The sum is:\",sum)\n"
      ]
    }
  ]
}
