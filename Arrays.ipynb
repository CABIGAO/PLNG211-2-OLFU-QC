{
  "nbformat": 4,
  "nbformat_minor": 0,
  "metadata": {
    "colab": {
      "provenance": [],
      "authorship_tag": "ABX9TyPT9CAs3qgnPUFXdLucOwSg",
      "include_colab_link": true
    },
    "kernelspec": {
      "name": "python3",
      "display_name": "Python 3"
    },
    "language_info": {
      "name": "python"
    }
  },
  "cells": [
    {
      "cell_type": "markdown",
      "metadata": {
        "id": "view-in-github",
        "colab_type": "text"
      },
      "source": [
        "<a href=\"https://colab.research.google.com/github/CABIGAO/PLNG211-2-OLFU-QC/blob/main/Arrays.ipynb\" target=\"_parent\"><img src=\"https://colab.research.google.com/assets/colab-badge.svg\" alt=\"Open In Colab\"/></a>"
      ]
    },
    {
      "cell_type": "code",
      "execution_count": 22,
      "metadata": {
        "colab": {
          "base_uri": "https://localhost:8080/"
        },
        "id": "1qMEGMjWRBUs",
        "outputId": "ea7fd0a9-355f-4752-ee91-fc4ff6b22e2b"
      },
      "outputs": [
        {
          "output_type": "stream",
          "name": "stdout",
          "text": [
            "The list of cat breeds in an array are : ['siamese', 'persian', 'puspin']\n",
            "The breed in breedl[0] is : siamese\n",
            "siamese\n",
            "persian\n",
            "puspin\n"
          ]
        }
      ],
      "source": [
        "#Accessing the Elements in the Array\n",
        "Breeds = ['siamese','persian','puspin']\n",
        "x = Breeds[0]\n",
        "print(\"The list of cat breeds in an array are :\",Breeds)\n",
        "print(\"The breed in breedl[0] is :\",x)\n",
        "for y in Breeds:\n",
        "  print(y)"
      ]
    },
    {
      "cell_type": "code",
      "source": [
        "#Modifying Elements in the Array\n",
        "Breeds = ['siamese','persian','puspin']\n",
        "Breeds[1] = 'british'\n",
        "print(Breeds)"
      ],
      "metadata": {
        "colab": {
          "base_uri": "https://localhost:8080/"
        },
        "id": "gekJ9dsfS-ET",
        "outputId": "35ef0b10-1bdf-4f29-d5df-ed5a28e5e0a0"
      },
      "execution_count": 23,
      "outputs": [
        {
          "output_type": "stream",
          "name": "stdout",
          "text": [
            "['siamese', 'monkey', 'puspin']\n"
          ]
        }
      ]
    },
    {
      "cell_type": "code",
      "source": [
        "#Length of the Array\n",
        "Breeds = ['siamese','persian','puspin']\n",
        "x = len(Breeds)\n",
        "print(x)\n"
      ],
      "metadata": {
        "colab": {
          "base_uri": "https://localhost:8080/"
        },
        "id": "58Dpcvt7TbUL",
        "outputId": "8aa898da-45a0-420f-825a-71079f3786aa"
      },
      "execution_count": 24,
      "outputs": [
        {
          "output_type": "stream",
          "name": "stdout",
          "text": [
            "3\n"
          ]
        }
      ]
    },
    {
      "cell_type": "code",
      "source": [
        "#Looping Array Elements\n",
        "verbs = [\"jumping\",\"eating\",\"swimming\"]\n",
        "Breeds = ['siamese','persian','puspin']\n",
        "for k in verbs:\n",
        "  for j in Breeds:\n",
        "    print(k,j)"
      ],
      "metadata": {
        "colab": {
          "base_uri": "https://localhost:8080/"
        },
        "id": "g6Uu2gT4TpRr",
        "outputId": "4c9d08ac-0771-432f-ed32-c2825aeb4668"
      },
      "execution_count": 9,
      "outputs": [
        {
          "output_type": "stream",
          "name": "stdout",
          "text": [
            "jumping cat\n",
            "jumping dog\n",
            "jumping fish\n",
            "eating cat\n",
            "eating dog\n",
            "eating fish\n",
            "swimming cat\n",
            "swimming dog\n",
            "swimming fish\n"
          ]
        }
      ]
    },
    {
      "cell_type": "code",
      "source": [
        "#Append the Element in the Array\n",
        "Breeds = ['siamese','persian','puspin']\n",
        "Breeds.append('british')\n",
        "print(Breeds)"
      ],
      "metadata": {
        "colab": {
          "base_uri": "https://localhost:8080/"
        },
        "id": "VoGX8FRKVf1y",
        "outputId": "8caea840-9082-407e-b5e2-ace58eb6c5ea"
      },
      "execution_count": 25,
      "outputs": [
        {
          "output_type": "stream",
          "name": "stdout",
          "text": [
            "['siamese', 'persian', 'puspin', 'british']\n"
          ]
        }
      ]
    },
    {
      "cell_type": "code",
      "source": [
        "#Insert an Element in th Array\n",
        "Breeds = ['siamese','persian','puspin']\n",
        "Breeds.insert(0,'Scottish')\n",
        "print(Breeds)"
      ],
      "metadata": {
        "colab": {
          "base_uri": "https://localhost:8080/"
        },
        "id": "sGPXS1hhV7A6",
        "outputId": "2c180376-786d-4bcd-cef8-739639896e17"
      },
      "execution_count": 26,
      "outputs": [
        {
          "output_type": "stream",
          "name": "stdout",
          "text": [
            "['Scottish', 'siamese', 'persian', 'puspin']\n"
          ]
        }
      ]
    },
    {
      "cell_type": "code",
      "source": [
        "#Remove an element in the Array list\n",
        "Breeds.pop(1)\n",
        "print(Breeds)\n"
      ],
      "metadata": {
        "colab": {
          "base_uri": "https://localhost:8080/"
        },
        "id": "KFUuNz3RWPo8",
        "outputId": "4b4e8da5-6438-4a0f-a3b7-1cd15c3fed83"
      },
      "execution_count": 27,
      "outputs": [
        {
          "output_type": "stream",
          "name": "stdout",
          "text": [
            "['Scottish', 'persian', 'puspin']\n"
          ]
        }
      ]
    },
    {
      "cell_type": "code",
      "source": [
        "#Array module in Python\n",
        "from array import *\n",
        "numbers = array('i',[1,2,3,4,5])\n",
        "numbers.typecode"
      ],
      "metadata": {
        "colab": {
          "base_uri": "https://localhost:8080/",
          "height": 35
        },
        "id": "5WSMdlpNWgOa",
        "outputId": "2d33b444-9af1-4e2d-ad7f-5914318b14ca"
      },
      "execution_count": 28,
      "outputs": [
        {
          "output_type": "execute_result",
          "data": {
            "text/plain": [
              "'i'"
            ],
            "application/vnd.google.colaboratory.intrinsic+json": {
              "type": "string"
            }
          },
          "metadata": {},
          "execution_count": 28
        }
      ]
    },
    {
      "cell_type": "code",
      "source": [
        "#Array module in Python\n",
        "#Append\n",
        "from array import *\n",
        "numbers = array('i',[1,2,3,4,5])\n",
        "numbers.append(6)\n",
        "numbers"
      ],
      "metadata": {
        "colab": {
          "base_uri": "https://localhost:8080/"
        },
        "id": "UyeQcDN_XhB7",
        "outputId": "4fbe5874-6d50-4d6b-b177-fc7ef61530c2"
      },
      "execution_count": 17,
      "outputs": [
        {
          "output_type": "execute_result",
          "data": {
            "text/plain": [
              "array('i', [1, 2, 3, 4, 5, 6])"
            ]
          },
          "metadata": {},
          "execution_count": 17
        }
      ]
    },
    {
      "cell_type": "code",
      "source": [
        "#Array module in Python\n",
        "#Append\n",
        "from array import *\n",
        "numbers = array('i',[1,2,3,4,5,8,8,4,3,5])\n",
        "numbers.count(3) \n",
        "numbers.reverse()\n",
        "print(numbers)\n"
      ],
      "metadata": {
        "colab": {
          "base_uri": "https://localhost:8080/"
        },
        "id": "mUOAiOIuX53y",
        "outputId": "59f350b1-d266-42ef-d765-7baada4d17c3"
      },
      "execution_count": 21,
      "outputs": [
        {
          "output_type": "stream",
          "name": "stdout",
          "text": [
            "array('i', [5, 3, 4, 8, 8, 5, 4, 3, 2, 1])\n"
          ]
        }
      ]
    }
  ]
}