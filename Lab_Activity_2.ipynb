{
  "nbformat": 4,
  "nbformat_minor": 0,
  "metadata": {
    "colab": {
      "provenance": [],
      "authorship_tag": "ABX9TyM/juOSTo1knZRb4hfAxnR1",
      "include_colab_link": true
    },
    "kernelspec": {
      "name": "python3",
      "display_name": "Python 3"
    },
    "language_info": {
      "name": "python"
    }
  },
  "cells": [
    {
      "cell_type": "markdown",
      "metadata": {
        "id": "view-in-github",
        "colab_type": "text"
      },
      "source": [
        "<a href=\"https://colab.research.google.com/github/CABIGAO/PLNG211-2-OLFU-QC/blob/main/Lab_Activity_2.ipynb\" target=\"_parent\"><img src=\"https://colab.research.google.com/assets/colab-badge.svg\" alt=\"Open In Colab\"/></a>"
      ]
    },
    {
      "cell_type": "code",
      "execution_count": 6,
      "metadata": {
        "colab": {
          "base_uri": "https://localhost:8080/"
        },
        "id": "-7z9aP1dGNRj",
        "outputId": "62f4002c-fc52-4937-f304-22f181b46473"
      },
      "outputs": [
        {
          "output_type": "stream",
          "name": "stdout",
          "text": [
            "Hi, my name is Nimfa Cabigao\n",
            "My student number is 0222004881\n",
            "I am 19 years old\n",
            "My course is BSCS and \n",
            "Im currently studying at Our Lady of Fatima University\n"
          ]
        }
      ],
      "source": [
        "class Student:\n",
        "  name = \"Nimfa Cabigao\"\n",
        "  stud_num = \"0222004881\"\n",
        "  age = \"19\"\n",
        "  school = \"Our Lady of Fatima University\"\n",
        "  course = \"BSCS\"\n",
        "\n",
        "  def info(myself):\n",
        "    print(\"Hi, my name is \" + myself.name)\n",
        "    print(\"My student number is \" + myself.stud_num)\n",
        "    print(\"I am \" + myself.age + \" years old\")\n",
        "    print(\"My course is \" + myself.course , \"and \")\n",
        "    print(\"Im currently studying at \" + myself.school)\n",
        "p1 = Student()\n",
        "\n",
        "p1.info()\n"
      ]
    }
  ]
}