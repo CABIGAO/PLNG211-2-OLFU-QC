{
  "nbformat": 4,
  "nbformat_minor": 0,
  "metadata": {
    "colab": {
      "provenance": [],
      "authorship_tag": "ABX9TyNciXHTwck038lemEgDGqbq",
      "include_colab_link": true
    },
    "kernelspec": {
      "name": "python3",
      "display_name": "Python 3"
    },
    "language_info": {
      "name": "python"
    }
  },
  "cells": [
    {
      "cell_type": "markdown",
      "metadata": {
        "id": "view-in-github",
        "colab_type": "text"
      },
      "source": [
        "<a href=\"https://colab.research.google.com/github/CABIGAO/PLNG211-2-OLFU-QC/blob/main/Class_and_Object.ipynb\" target=\"_parent\"><img src=\"https://colab.research.google.com/assets/colab-badge.svg\" alt=\"Open In Colab\"/></a>"
      ]
    },
    {
      "cell_type": "code",
      "execution_count": 1,
      "metadata": {
        "colab": {
          "base_uri": "https://localhost:8080/"
        },
        "id": "hFDz-k6dl0Zm",
        "outputId": "48b2f96c-a467-43e9-de69-4bfe4e6cd681"
      },
      "outputs": [
        {
          "output_type": "stream",
          "name": "stdout",
          "text": [
            "The area of Square 25\n",
            "The perimeter of Square 20\n"
          ]
        }
      ],
      "source": [
        "#Application 1\n",
        "\n",
        "class Square: #Class name\n",
        "  pass\n",
        "  def __init__(side,num,size,per):\n",
        "    side.num = num\n",
        "    side.size = pow(num, 2) #Formula \n",
        "    side.per = num+num+num+num #Formula\n",
        "  def myFunction(side): \n",
        "    print(\"The area of Square\",side.size) \n",
        "    print(\"The perimeter of Square\",side.per)\n",
        "\n",
        "p1 = Square(5,0,0)\n",
        "p1.myFunction()"
      ]
    }
  ]
}