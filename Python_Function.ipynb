{
  "nbformat": 4,
  "nbformat_minor": 0,
  "metadata": {
    "colab": {
      "provenance": [],
      "authorship_tag": "ABX9TyMSJrlqwJWmt2NoIRHiugzR",
      "include_colab_link": true
    },
    "kernelspec": {
      "name": "python3",
      "display_name": "Python 3"
    },
    "language_info": {
      "name": "python"
    }
  },
  "cells": [
    {
      "cell_type": "markdown",
      "metadata": {
        "id": "view-in-github",
        "colab_type": "text"
      },
      "source": [
        "<a href=\"https://colab.research.google.com/github/CABIGAO/PLNG211-2-OLFU-QC/blob/main/Python_Function.ipynb\" target=\"_parent\"><img src=\"https://colab.research.google.com/assets/colab-badge.svg\" alt=\"Open In Colab\"/></a>"
      ]
    },
    {
      "cell_type": "code",
      "execution_count": null,
      "metadata": {
        "colab": {
          "base_uri": "https://localhost:8080/"
        },
        "id": "4dKxSB6if3Bk",
        "outputId": "aa50788e-58c6-4edc-bb4c-a7ba875bf50d"
      },
      "outputs": [
        {
          "output_type": "stream",
          "name": "stdout",
          "text": [
            "100\n",
            "37.78\n"
          ]
        }
      ],
      "source": [
        "#Creating own function\n",
        "\n",
        "def convert_to_celsius(farenheit):\n",
        "  return (farenheit- 32)*5/9\n",
        "\n",
        "farenheit = int(input())\n",
        "print(round(convert_to_celsius(farenheit),2))\n"
      ]
    },
    {
      "cell_type": "code",
      "source": [
        "#Creat a function that will display three consecutive my_function values\n",
        "\n",
        "def my_function(fname):\n",
        "  print(fname+\"CABIGAO\")\n",
        "  \n",
        "my_function(\"NIMFA \")\n"
      ],
      "metadata": {
        "colab": {
          "base_uri": "https://localhost:8080/"
        },
        "id": "Dzj3z3gAhv8D",
        "outputId": "ca4c0ca9-0df3-4d9f-983f-283ad9bef1fa"
      },
      "execution_count": null,
      "outputs": [
        {
          "output_type": "stream",
          "name": "stdout",
          "text": [
            "NIMFA CABIGAO\n"
          ]
        }
      ]
    },
    {
      "cell_type": "code",
      "source": [
        "#Create an arithmetic function\n",
        "\n",
        "def Myfunction(x):\n",
        "  return 5+x\n",
        "\n",
        "print(Myfunction(3))\n",
        "print(Myfunction(5))\n",
        "print(Myfunction(9))"
      ],
      "metadata": {
        "colab": {
          "base_uri": "https://localhost:8080/"
        },
        "id": "a3VqtGkDivzt",
        "outputId": "ebd92727-c19e-419d-ef8c-8cd2645d012c"
      },
      "execution_count": null,
      "outputs": [
        {
          "output_type": "stream",
          "name": "stdout",
          "text": [
            "8\n",
            "10\n",
            "14\n"
          ]
        }
      ]
    },
    {
      "cell_type": "code",
      "source": [
        "#Exercise 1\n",
        "def min_and_max(element):\n",
        "  return(len(element))\n",
        "\n",
        "a =[2, 3 , 4]\n",
        "print(min(a))\n",
        "b =[2, -3, 4, 7, -5]\n",
        "print(max(b))\n",
        "c =[2, -3, min (4,7),-5]\n",
        "print (max(c))"
      ],
      "metadata": {
        "colab": {
          "base_uri": "https://localhost:8080/"
        },
        "id": "jtjDFj5YvtJt",
        "outputId": "8985a03e-5c3a-42dd-d5ad-4323f08b075c"
      },
      "execution_count": null,
      "outputs": [
        {
          "output_type": "stream",
          "name": "stdout",
          "text": [
            "2\n",
            "7\n",
            "4\n"
          ]
        }
      ]
    },
    {
      "cell_type": "code",
      "source": [
        "#Exercise 2\n",
        "import math\n",
        "def sum(FirstInt,SecondInt,ThirdInt):\n",
        "  return FirstInt + SecondInt + ThirdInt\n",
        "def average(FirstInt,SecondInt,ThirdInt):\n",
        "  return FirstInt + SecondInt + ThirdInt/3\n",
        "def SumSquare(FirstInt,SecondInt,ThirdInt):\n",
        "  return math.pow(FirstInt,2) + math.pow(SecondInt,2) + math.pow(ThirdInt,2)\n",
        "\n",
        "FirstInt= int(input())\n",
        "SecondInt= int(input())\n",
        "ThirdInt= int(input())\n",
        "\n",
        "print(\"Sum =\",sum(FirstInt,SecondInt,ThirdInt))\n",
        "print(\"Average =\",average(FirstInt,SecondInt,ThirdInt))\n",
        "print(\"Sum of Squares =\",SumSquare(FirstInt,SecondInt,ThirdInt))"
      ],
      "metadata": {
        "colab": {
          "base_uri": "https://localhost:8080/"
        },
        "id": "9u172XJax-7G",
        "outputId": "a93d9e11-c830-4cf6-af07-fc0760a2c8f6"
      },
      "execution_count": null,
      "outputs": [
        {
          "output_type": "stream",
          "name": "stdout",
          "text": [
            "50\n",
            "50\n",
            "50\n",
            "Sum = 150\n",
            "Average = 116.66666666666667\n",
            "Sum of Squares = 7500.0\n"
          ]
        }
      ]
    }
  ]
}