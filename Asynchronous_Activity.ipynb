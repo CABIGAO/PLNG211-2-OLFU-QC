{
  "nbformat": 4,
  "nbformat_minor": 0,
  "metadata": {
    "colab": {
      "provenance": [],
      "authorship_tag": "ABX9TyN/HTPudGVfQLsbb/qS5GdG",
      "include_colab_link": true
    },
    "kernelspec": {
      "name": "python3",
      "display_name": "Python 3"
    },
    "language_info": {
      "name": "python"
    }
  },
  "cells": [
    {
      "cell_type": "markdown",
      "metadata": {
        "id": "view-in-github",
        "colab_type": "text"
      },
      "source": [
        "<a href=\"https://colab.research.google.com/github/CABIGAO/PLNG211-2-OLFU-QC/blob/main/Asynchronous_Activity.ipynb\" target=\"_parent\"><img src=\"https://colab.research.google.com/assets/colab-badge.svg\" alt=\"Open In Colab\"/></a>"
      ]
    },
    {
      "cell_type": "code",
      "execution_count": 7,
      "metadata": {
        "colab": {
          "base_uri": "https://localhost:8080/"
        },
        "id": "8GbZJ103Xipp",
        "outputId": "f8ef0e1f-96a5-4017-9730-69a1de28a91d"
      },
      "outputs": [
        {
          "output_type": "stream",
          "name": "stdout",
          "text": [
            "Your Salary:  600\n",
            "Your salary in 15 days: 9000\n",
            "The Taxable Amount:  2700.0\n",
            "Your Net Pay:  6300.0\n"
          ]
        }
      ],
      "source": [
        "#Given the following values: \n",
        "Salary_rate = 600 #600 per day\n",
        "Salary = Salary_rate*15     #15 days\n",
        "Taxable_amount = Salary*0.3 #30% of the Salary  \n",
        "Net_pay = Salary-Taxable_amount\n",
        "print(\"Your Salary: \", Salary_rate)\n",
        "print(\"Your salary in 15 days:\" , Salary)\n",
        "print(\"The Taxable Amount: \", Taxable_amount)\n",
        "print(\"Your Net Pay: \", Net_pay)"
      ]
    }
  ]
}