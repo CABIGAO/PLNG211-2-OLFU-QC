{
  "nbformat": 4,
  "nbformat_minor": 0,
  "metadata": {
    "colab": {
      "provenance": [],
      "authorship_tag": "ABX9TyNaw/evBplosIEpJDxkhtcO",
      "include_colab_link": true
    },
    "kernelspec": {
      "name": "python3",
      "display_name": "Python 3"
    },
    "language_info": {
      "name": "python"
    }
  },
  "cells": [
    {
      "cell_type": "markdown",
      "metadata": {
        "id": "view-in-github",
        "colab_type": "text"
      },
      "source": [
        "<a href=\"https://colab.research.google.com/github/CABIGAO/PLNG211-2-OLFU-QC/blob/main/Operation_and_Expressions.ipynb\" target=\"_parent\"><img src=\"https://colab.research.google.com/assets/colab-badge.svg\" alt=\"Open In Colab\"/></a>"
      ]
    },
    {
      "cell_type": "markdown",
      "source": [
        "Boolean Operators"
      ],
      "metadata": {
        "id": "-OJBhFTrVgRL"
      }
    },
    {
      "cell_type": "code",
      "execution_count": 5,
      "metadata": {
        "colab": {
          "base_uri": "https://localhost:8080/"
        },
        "id": "5TABia5IVbKh",
        "outputId": "434a0f43-b34f-4991-9015-30cbf61cad81"
      },
      "outputs": [
        {
          "output_type": "stream",
          "name": "stdout",
          "text": [
            "True\n",
            "False\n",
            "False\n"
          ]
        }
      ],
      "source": [
        "h = 10\n",
        "i = 5\n",
        "print(h>i)\n",
        "print(i==h)\n",
        "print(5>10)\n"
      ]
    },
    {
      "cell_type": "markdown",
      "source": [
        "Boolean () Function"
      ],
      "metadata": {
        "id": "iSRspa7fWAay"
      }
    },
    {
      "cell_type": "code",
      "source": [
        "print(bool(2))\n",
        "print(bool(\"Hello World\"))\n",
        "print(bool(0))\n",
        "print(bool(None))\n",
        "print(bool([]))"
      ],
      "metadata": {
        "colab": {
          "base_uri": "https://localhost:8080/"
        },
        "id": "UAqPJclfWDUJ",
        "outputId": "fe373742-2509-4cce-f120-ab7b1424eed3"
      },
      "execution_count": 2,
      "outputs": [
        {
          "output_type": "stream",
          "name": "stdout",
          "text": [
            "True\n",
            "True\n",
            "False\n",
            "False\n",
            "False\n"
          ]
        }
      ]
    },
    {
      "cell_type": "markdown",
      "source": [
        "Function that returns a boolean answer"
      ],
      "metadata": {
        "id": "lfilgT-QWKpK"
      }
    },
    {
      "cell_type": "code",
      "source": [
        "def My_Function():\n",
        "  return False\n",
        "\n",
        "if My_Function():\n",
        "  print(\"dog\")\n",
        "else:\n",
        "  print(\"cat\")"
      ],
      "metadata": {
        "colab": {
          "base_uri": "https://localhost:8080/"
        },
        "id": "VjKDHdttWNDy",
        "outputId": "76eed224-3447-4754-ab8e-92f8f89af79d"
      },
      "execution_count": 6,
      "outputs": [
        {
          "output_type": "stream",
          "name": "stdout",
          "text": [
            "cat\n"
          ]
        }
      ]
    },
    {
      "cell_type": "markdown",
      "source": [
        "Me try!"
      ],
      "metadata": {
        "id": "LYSAorWpYS3q"
      }
    },
    {
      "cell_type": "code",
      "source": [
        "c = 6\n",
        "d = 7\n",
        "print(c==d)\n",
        "print(c!=d)"
      ],
      "metadata": {
        "colab": {
          "base_uri": "https://localhost:8080/"
        },
        "id": "JI_LqLNnX9rS",
        "outputId": "62bd837d-da8e-49de-c394-c4d512be7a8f"
      },
      "execution_count": 4,
      "outputs": [
        {
          "output_type": "stream",
          "name": "stdout",
          "text": [
            "False\n",
            "True\n"
          ]
        }
      ]
    },
    {
      "cell_type": "markdown",
      "source": [
        "Python Operators"
      ],
      "metadata": {
        "id": "XW6BYsMmYz1i"
      }
    },
    {
      "cell_type": "code",
      "source": [
        "print(18+2)\n",
        "print(90-40)\n",
        "print(10*10)\n",
        "print(5**5)\n",
        "print(9/3)       #division\n",
        "print(9//4)      #floor division\n",
        "print(9%4)       #remainder"
      ],
      "metadata": {
        "colab": {
          "base_uri": "https://localhost:8080/"
        },
        "id": "tPaZV9o8Y1RJ",
        "outputId": "0d0ccd95-e3be-44bc-8b65-740ff586c8a7"
      },
      "execution_count": 9,
      "outputs": [
        {
          "output_type": "stream",
          "name": "stdout",
          "text": [
            "20\n",
            "50\n",
            "100\n",
            "3125\n",
            "3.0\n",
            "2\n",
            "1\n"
          ]
        }
      ]
    },
    {
      "cell_type": "markdown",
      "source": [
        "Python Bitwise Operators"
      ],
      "metadata": {
        "id": "HnU3yR1-aoV5"
      }
    },
    {
      "cell_type": "code",
      "source": [
        "e = 70\n",
        "f = 26        \n",
        "#& and, #| or,   #-/~\n",
        "\n",
        "print(e>>2)\n",
        "print(e<<1)\n",
        "print(~f)      #00001101, 2s complement"
      ],
      "metadata": {
        "colab": {
          "base_uri": "https://localhost:8080/"
        },
        "id": "27kpiSzCapEn",
        "outputId": "9e9bb214-4835-4f14-bac3-6e7431ab010c"
      },
      "execution_count": 12,
      "outputs": [
        {
          "output_type": "stream",
          "name": "stdout",
          "text": [
            "17\n",
            "140\n",
            "-27\n"
          ]
        }
      ]
    },
    {
      "cell_type": "markdown",
      "source": [
        "Python Assignment Operator"
      ],
      "metadata": {
        "id": "Z5FQ6ZoIbIYa"
      }
    },
    {
      "cell_type": "code",
      "source": [
        "v= 22\n",
        "b = 7\n",
        "v+=3    #same as v = v +3   , v  = 22+3  = 25\n",
        "print(\"v=\",v)"
      ],
      "metadata": {
        "colab": {
          "base_uri": "https://localhost:8080/"
        },
        "id": "ld-vXDk3bJEp",
        "outputId": "2ff1588e-c23a-4e0b-c239-1c125accfcf8"
      },
      "execution_count": 21,
      "outputs": [
        {
          "output_type": "stream",
          "name": "stdout",
          "text": [
            "v= 25\n"
          ]
        }
      ]
    },
    {
      "cell_type": "markdown",
      "source": [
        "Logical Operators"
      ],
      "metadata": {
        "id": "GOyr2nPlbuS4"
      }
    },
    {
      "cell_type": "code",
      "source": [
        "print(v >b and v == v)\n",
        "print(b!=b or v == b)\n",
        "print(not(b!=b or v==b))"
      ],
      "metadata": {
        "colab": {
          "base_uri": "https://localhost:8080/"
        },
        "id": "N_EGlSPYbvMw",
        "outputId": "f373f8f0-4e7d-46c2-ee2e-5f106f87b414"
      },
      "execution_count": 22,
      "outputs": [
        {
          "output_type": "stream",
          "name": "stdout",
          "text": [
            "True\n",
            "False\n",
            "True\n"
          ]
        }
      ]
    },
    {
      "cell_type": "markdown",
      "source": [
        "Identity Operators"
      ],
      "metadata": {
        "id": "G0enPwUCb5Ip"
      }
    },
    {
      "cell_type": "code",
      "source": [
        "#is, is not\n",
        "print(b is v)\n",
        "print(v is v)\n",
        "print(v is not b)"
      ],
      "metadata": {
        "colab": {
          "base_uri": "https://localhost:8080/"
        },
        "id": "db-ADDJwb7NA",
        "outputId": "944c793f-b27e-4f0b-aa8e-a193edc7d75d"
      },
      "execution_count": 26,
      "outputs": [
        {
          "output_type": "stream",
          "name": "stdout",
          "text": [
            "False\n",
            "True\n",
            "True\n"
          ]
        }
      ]
    }
  ]
}