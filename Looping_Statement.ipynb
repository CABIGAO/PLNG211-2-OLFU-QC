{
  "nbformat": 4,
  "nbformat_minor": 0,
  "metadata": {
    "colab": {
      "provenance": [],
      "authorship_tag": "ABX9TyPzjka7SzwsAkqidHQJlg8O",
      "include_colab_link": true
    },
    "kernelspec": {
      "name": "python3",
      "display_name": "Python 3"
    },
    "language_info": {
      "name": "python"
    }
  },
  "cells": [
    {
      "cell_type": "markdown",
      "metadata": {
        "id": "view-in-github",
        "colab_type": "text"
      },
      "source": [
        "<a href=\"https://colab.research.google.com/github/CABIGAO/PLNG211-2-OLFU-QC/blob/main/Looping_Statement.ipynb\" target=\"_parent\"><img src=\"https://colab.research.google.com/assets/colab-badge.svg\" alt=\"Open In Colab\"/></a>"
      ]
    },
    {
      "cell_type": "code",
      "execution_count": 20,
      "metadata": {
        "id": "-xiBzzy-k-gG",
        "colab": {
          "base_uri": "https://localhost:8080/"
        },
        "outputId": "6074a204-bfc7-437f-ffc6-ead337d12a38"
      },
      "outputs": [
        {
          "output_type": "stream",
          "name": "stdout",
          "text": [
            "they are equal\n"
          ]
        }
      ],
      "source": [
        "#if Statement\n",
        "c = 2\n",
        "j = 2\n",
        "\n",
        "if c>j:\n",
        "  print(\"c is higher than j \")\n",
        "\n",
        "#Elif Statement\n",
        "elif c<j:\n",
        "  print(\"c is less than j\")\n",
        "\n",
        "#else Statement\n",
        "else:\n",
        "  print(\"they are equal\")"
      ]
    },
    {
      "cell_type": "code",
      "source": [
        "#Short hand if\n",
        "c = 19\n",
        "d = 22\n",
        "\n",
        "if c>d: print(\"he is greater than m\")\n",
        "\n",
        "#Short hand if.. else\n",
        "\n",
        "print(\"he is greater than m\") if c>d else print(\"he is less than me\")\n"
      ],
      "metadata": {
        "colab": {
          "base_uri": "https://localhost:8080/"
        },
        "id": "ReoHRWYBr3O9",
        "outputId": "49c3676b-b73c-46c9-cc60-a1944c55a987"
      },
      "execution_count": 28,
      "outputs": [
        {
          "output_type": "stream",
          "name": "stdout",
          "text": [
            "he is less than me\n"
          ]
        }
      ]
    },
    {
      "cell_type": "code",
      "source": [
        "# And and or Statement\n",
        "C = 10\n",
        "A = 20\n",
        "T = 30\n",
        " \n",
        "if T>A and A>C:\n",
        "  print(\"both operands are TRUE\")\n",
        "\n",
        "if C>A or C<A:\n",
        "  print(\"at least one of the operands is TRUE \")"
      ],
      "metadata": {
        "colab": {
          "base_uri": "https://localhost:8080/"
        },
        "id": "Y2-OGpe1tMHm",
        "outputId": "2d3f56c0-1f6f-4ccf-eac6-57f9dfe48d29"
      },
      "execution_count": 31,
      "outputs": [
        {
          "output_type": "stream",
          "name": "stdout",
          "text": [
            "both operands are TRUE\n",
            "at least one of the operands is TRUE \n"
          ]
        }
      ]
    },
    {
      "cell_type": "code",
      "source": [
        "#Nested if \n",
        "\n",
        "p = 19\n",
        "if p>10:\n",
        "  print(\"above ten\") \n",
        "  if p>20:\n",
        "    print(\"And also above 20\")\n",
        "    if p>30:\n",
        "      print(\"And also above 30\")\n",
        "      if p>40:\n",
        "        print(\"And also above 40\")\n",
        "        if p>50:\n",
        "          print(\"And also above 50\")\n",
        "        else:\n",
        "         print(\"But not above 40\")\n",
        "    else:\n",
        "      print(\"But not above 30\")\n",
        "  else:\n",
        "     print(\"But not above 20\")\n",
        "else:\n",
        "  print(\"But not above 10\")\n"
      ],
      "metadata": {
        "colab": {
          "base_uri": "https://localhost:8080/"
        },
        "id": "r3TyIStsuQLe",
        "outputId": "dd7ffd2f-e3fe-434e-e21f-4551fecfed29"
      },
      "execution_count": 48,
      "outputs": [
        {
          "output_type": "stream",
          "name": "stdout",
          "text": [
            "above ten\n",
            "But not above 20\n"
          ]
        }
      ]
    },
    {
      "cell_type": "code",
      "source": [
        "#Example 1. Write a program that determines if the input age is qualified to vote or not. \n",
        "#The qualifying age is 18 years old and above.\n",
        "age = 13\n",
        "if age>=18:\n",
        "  print(\"You are qualifide to vote\")\n",
        "else:\n",
        "  print(\"You are not qualifide to vote\")\n"
      ],
      "metadata": {
        "colab": {
          "base_uri": "https://localhost:8080/"
        },
        "id": "J2ru2237w4T3",
        "outputId": "f248717b-23f2-4562-aad4-1f3f3c3566f6"
      },
      "execution_count": 49,
      "outputs": [
        {
          "output_type": "stream",
          "name": "stdout",
          "text": [
            "You are not qualifide to vote\n"
          ]
        }
      ]
    },
    {
      "cell_type": "code",
      "source": [
        "print('Enter your age:')\n",
        "age = int(input())\n",
        "\n",
        "if age >= 18:\n",
        "  print(\"You are qualifide to vote\")\n",
        "else:\n",
        "  print(\"You are not qualifide to vote\")"
      ],
      "metadata": {
        "colab": {
          "base_uri": "https://localhost:8080/"
        },
        "id": "6GsfE6EjxW2R",
        "outputId": "146c06e2-b1b4-44e6-c332-8d88b1f609ec"
      },
      "execution_count": 88,
      "outputs": [
        {
          "output_type": "stream",
          "name": "stdout",
          "text": [
            "Enter your age:\n",
            "18\n",
            "You are qualifide to vote\n"
          ]
        }
      ]
    },
    {
      "cell_type": "code",
      "source": [
        "#for loop\n",
        "Month = [\"Jan\",\"Feb\",\"Mar\",\"Apr\",\"May\",\"Jun\",\"Aug\"]\n",
        "\n",
        "for M in Month:\n",
        "  print(M)"
      ],
      "metadata": {
        "colab": {
          "base_uri": "https://localhost:8080/"
        },
        "id": "gB5nc8KExvvo",
        "outputId": "a064c444-3914-4d52-acf7-1967e0672d33"
      },
      "execution_count": 56,
      "outputs": [
        {
          "output_type": "stream",
          "name": "stdout",
          "text": [
            "Jan\n",
            "Feb\n",
            "Mar\n",
            "Apr\n",
            "May\n",
            "Jun\n",
            "Aug\n"
          ]
        }
      ]
    },
    {
      "cell_type": "code",
      "source": [
        "Month = [\"Jan\",\"Feb\",\"Mar\",\"Apr\",\"May\",\"Jun\",\"Aug\"]\n",
        "for M in Month:\n",
        "  print(M)\n",
        "  if M == \"May\":\n",
        "    break"
      ],
      "metadata": {
        "colab": {
          "base_uri": "https://localhost:8080/"
        },
        "id": "EWcJTWpeyWKR",
        "outputId": "9b763cce-0cf3-451c-b58b-b42411ec818c"
      },
      "execution_count": 59,
      "outputs": [
        {
          "output_type": "stream",
          "name": "stdout",
          "text": [
            "Jan\n",
            "Feb\n",
            "Mar\n",
            "Apr\n",
            "May\n"
          ]
        }
      ]
    },
    {
      "cell_type": "code",
      "source": [
        "#Using for loop to display only MAY\n",
        "Month = [\"Jan\",\"Feb\",\"Mar\",\"Apr\",\"May\",\"Jun\",\"Aug\"]\n",
        "for M in Month:\n",
        "  if M == \"May\":\n",
        "    print(M)\n",
        "    break"
      ],
      "metadata": {
        "colab": {
          "base_uri": "https://localhost:8080/"
        },
        "id": "vq-aEVmHyw4h",
        "outputId": "0d2cf6e9-6f44-4e0a-d8c6-1d2402f49159"
      },
      "execution_count": 60,
      "outputs": [
        {
          "output_type": "stream",
          "name": "stdout",
          "text": [
            "May\n"
          ]
        }
      ]
    },
    {
      "cell_type": "code",
      "source": [
        "#Looping through String\n",
        "\n",
        "for c in \"ILYCATS\":\n",
        "  print(c)"
      ],
      "metadata": {
        "colab": {
          "base_uri": "https://localhost:8080/"
        },
        "id": "sfKWZF85zNVB",
        "outputId": "0f91ca61-b6c1-4a84-895c-b8b58d1f366d"
      },
      "execution_count": 63,
      "outputs": [
        {
          "output_type": "stream",
          "name": "stdout",
          "text": [
            "I\n",
            "L\n",
            "Y\n",
            "C\n",
            "A\n",
            "T\n",
            "S\n"
          ]
        }
      ]
    },
    {
      "cell_type": "code",
      "source": [
        "#The range ()function \n",
        "#for x in range(6):\n",
        "  #print(x)\n",
        "for x in range (2,7,3):\n",
        "  print(x)\n"
      ],
      "metadata": {
        "colab": {
          "base_uri": "https://localhost:8080/"
        },
        "id": "0y_pOm56zniR",
        "outputId": "0a2f6ab5-0a56-49f6-e161-fd90758784d6"
      },
      "execution_count": 71,
      "outputs": [
        {
          "output_type": "stream",
          "name": "stdout",
          "text": [
            "2\n",
            "5\n"
          ]
        }
      ]
    },
    {
      "cell_type": "code",
      "source": [
        "#Nested loops\n",
        "compli = [\"cute\", \"beautiful\", \"wise\"]\n",
        "girls_name = [\"anna\", \"bea\", \"hale\"]\n",
        "\n",
        "for x in compli:\n",
        "  for y in girls_name:\n",
        "    print(x, y)"
      ],
      "metadata": {
        "colab": {
          "base_uri": "https://localhost:8080/"
        },
        "id": "_DZXSyHN0RJZ",
        "outputId": "e7806761-35b4-4065-e375-f5f0676ef66c"
      },
      "execution_count": 75,
      "outputs": [
        {
          "output_type": "stream",
          "name": "stdout",
          "text": [
            "cute anna\n",
            "cute bea\n",
            "cute hale\n",
            "beautiful anna\n",
            "beautiful bea\n",
            "beautiful hale\n",
            "wise anna\n",
            "wise bea\n",
            "wise hale\n"
          ]
        }
      ]
    },
    {
      "cell_type": "code",
      "source": [
        "#while loop\n",
        "i = 1\n",
        "while i <= 5:\n",
        "  print(i)\n",
        "  i+=1"
      ],
      "metadata": {
        "id": "jLeZozyI0-8B"
      },
      "execution_count": 79,
      "outputs": []
    },
    {
      "cell_type": "code",
      "source": [
        "#while loop with break\n",
        "i = 1\n",
        "while i < 6:\n",
        "  print(i)\n",
        "  if i == 5:\n",
        "    break\n",
        "  i += 1"
      ],
      "metadata": {
        "colab": {
          "base_uri": "https://localhost:8080/"
        },
        "id": "9hMn5gw61Q3x",
        "outputId": "e186bee0-57d9-4a24-88b2-d5d2d7171cfe"
      },
      "execution_count": 81,
      "outputs": [
        {
          "output_type": "stream",
          "name": "stdout",
          "text": [
            "1\n",
            "2\n",
            "3\n",
            "4\n",
            "5\n"
          ]
        }
      ]
    },
    {
      "cell_type": "code",
      "source": [
        "# while loop with break Application 1. Using while loop, display only 3\n",
        "i = 1\n",
        "while i<6:\n",
        "  if i ==5:\n",
        "    print(i)\n",
        "    break\n",
        "  i+=1"
      ],
      "metadata": {
        "colab": {
          "base_uri": "https://localhost:8080/"
        },
        "id": "QwFZONVF1rmJ",
        "outputId": "021bb884-6c52-4a64-a1f9-741f4cc92664"
      },
      "execution_count": 83,
      "outputs": [
        {
          "output_type": "stream",
          "name": "stdout",
          "text": [
            "5\n"
          ]
        }
      ]
    },
    {
      "cell_type": "code",
      "source": [
        "c = 0\n",
        "while c < 4:\n",
        "  c += 1\n",
        "  if c == 3:\n",
        "    continue\n",
        "  print(c)"
      ],
      "metadata": {
        "colab": {
          "base_uri": "https://localhost:8080/"
        },
        "id": "pPEcgxJV159y",
        "outputId": "330e4d85-2a38-4c9e-df8a-7a6250432f1e"
      },
      "execution_count": 84,
      "outputs": [
        {
          "output_type": "stream",
          "name": "stdout",
          "text": [
            "1\n",
            "2\n",
            "4\n"
          ]
        }
      ]
    },
    {
      "cell_type": "code",
      "source": [
        "# Else Statement\n",
        "c = 10\n",
        "while c<6:\n",
        "  print(c)\n",
        "  c+=1\n",
        "else:\n",
        "  print(\"C is no longer less than 6\")"
      ],
      "metadata": {
        "colab": {
          "base_uri": "https://localhost:8080/"
        },
        "id": "ItYnwCWP2Po6",
        "outputId": "399d0056-8b7f-4035-a43e-d20ae41651eb"
      },
      "execution_count": 87,
      "outputs": [
        {
          "output_type": "stream",
          "name": "stdout",
          "text": [
            "C is no longer less than 6\n"
          ]
        }
      ]
    }
  ]
}